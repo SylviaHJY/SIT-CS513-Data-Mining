{
 "cells": [
  {
   "cell_type": "code",
   "execution_count": null,
   "metadata": {},
   "outputs": [],
   "source": [
    "import pandas as pd\n",
    "from sklearn.model_selection import train_test_split\n",
    "from sklearn.neighbors import KNeighborsClassifier\n",
    "from sklearn.metrics import confusion_matrix, accuracy_score\n",
    "\n",
    "# Read data and handle missing values\n",
    "data = pd.read_csv(\"breast-cancer-wisconsin.csv\", na_values=\"?\")\n",
    "data.dropna(inplace=True)\n",
    "\n",
    "# Convert Class to categorical\n",
    "data[\"Class\"] = data[\"Class\"].astype(\"category\")\n",
    "\n",
    "# Split data into training and testing sets (70% train, 30% test)\n",
    "train_data, test_data = train_test_split(data, test_size=0.3, random_state=42)\n",
    "\n",
    "# Separate features and target\n",
    "X_train = train_data.drop(\"Class\", axis=1)\n",
    "y_train = train_data[\"Class\"]\n",
    "X_test = test_data.drop(\"Class\", axis=1)\n",
    "y_test = test_data[\"Class\"]\n",
    "\n",
    "# Run KNN for k = 3, 5, and 10\n",
    "k_values = [3, 5, 10]\n",
    "for k in k_values:\n",
    "    knn = KNeighborsClassifier(n_neighbors=k)\n",
    "    knn.fit(X_train, y_train)\n",
    "    y_pred = knn.predict(X_test)\n",
    "    conf_matrix = confusion_matrix(y_test, y_pred)\n",
    "    accuracy = accuracy_score(y_test, y_pred) * 100\n",
    "\n",
    "    print(f\"Confusion Matrix for k={k}:\\n{conf_matrix}\")\n",
    "    print(f\"Accuracy for k={k}: {accuracy:.2f}%\\n\")\n"
   ]
  }
 ],
 "metadata": {
  "language_info": {
   "name": "python"
  },
  "orig_nbformat": 4
 },
 "nbformat": 4,
 "nbformat_minor": 2
}
